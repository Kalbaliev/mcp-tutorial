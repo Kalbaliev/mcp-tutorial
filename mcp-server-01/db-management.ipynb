{
 "cells": [
  {
   "cell_type": "code",
   "execution_count": 5,
   "id": "a609e291",
   "metadata": {},
   "outputs": [
    {
     "name": "stdout",
     "output_type": "stream",
     "text": [
      "Existing database removed.\n"
     ]
    }
   ],
   "source": [
    "import sqlite3\n",
    "import os\n",
    "import pandas as pd\n",
    "\n",
    "DB_NAME = \"data/customers.db\"\n",
    "\n",
    "if os.path.exists(DB_NAME):\n",
    "    os.remove(DB_NAME)\n",
    "    print(\"Existing database removed.\")\n",
    "\n",
    "conn = sqlite3.connect(DB_NAME)\n",
    "cursor = conn.cursor()\n",
    "\n",
    "\n",
    "cursor.execute(\"\"\"\n",
    "CREATE TABLE customers (\n",
    "    id INTEGER PRIMARY KEY AUTOINCREMENT,\n",
    "    firstname TEXT NOT NULL,\n",
    "    lastname TEXT NOT NULL,\n",
    "    birthdate TEXT,\n",
    "    gender TEXT,\n",
    "    email TEXT UNIQUE,\n",
    "    city TEXT,\n",
    "    balance REAL\n",
    ")\n",
    "\"\"\")\n",
    "\n",
    "customers = [\n",
    "    (\"Ali\", \"Kalbaliyev\", \"1990-02-01\", \"Male\", \"ali.kelbeliyev@example.az\", \"Bakı\", 1200.50),\n",
    "    (\"Orxan\", \"Hasanov\", \"1979-03-05\", \"Male\", \"orxan.hesenov@example.az\", \"Gəncə\", 850.75),\n",
    "    (\"Yusif\", \"Mammadov\", \"1995-11-23\", \"Male\", \"yusif.memmedov@example.az\", \"Sumqayıt\", 1325.20),\n",
    "]\n",
    "\n",
    "cursor.executemany(\"\"\"\n",
    "INSERT INTO customers (firstname, lastname, birthdate, gender, email, city, balance)\n",
    "VALUES (?, ?, ?, ?, ?, ?, ?)\n",
    "\"\"\", customers)\n",
    "\n",
    "\n",
    "conn.commit()\n",
    "conn.close()"
   ]
  },
  {
   "cell_type": "code",
   "execution_count": null,
   "id": "00332c3c",
   "metadata": {},
   "outputs": [
    {
     "data": {
      "text/html": [
       "<div>\n",
       "<style scoped>\n",
       "    .dataframe tbody tr th:only-of-type {\n",
       "        vertical-align: middle;\n",
       "    }\n",
       "\n",
       "    .dataframe tbody tr th {\n",
       "        vertical-align: top;\n",
       "    }\n",
       "\n",
       "    .dataframe thead th {\n",
       "        text-align: right;\n",
       "    }\n",
       "</style>\n",
       "<table border=\"1\" class=\"dataframe\">\n",
       "  <thead>\n",
       "    <tr style=\"text-align: right;\">\n",
       "      <th></th>\n",
       "      <th>id</th>\n",
       "      <th>firstname</th>\n",
       "      <th>lastname</th>\n",
       "      <th>birthdate</th>\n",
       "      <th>gender</th>\n",
       "      <th>email</th>\n",
       "      <th>city</th>\n",
       "      <th>balance</th>\n",
       "    </tr>\n",
       "  </thead>\n",
       "  <tbody>\n",
       "    <tr>\n",
       "      <th>0</th>\n",
       "      <td>1</td>\n",
       "      <td>Ali</td>\n",
       "      <td>Kalbaliyev</td>\n",
       "      <td>1990-02-01</td>\n",
       "      <td>Male</td>\n",
       "      <td>ali.kelbeliyev@example.az</td>\n",
       "      <td>Bakı</td>\n",
       "      <td>1200.50</td>\n",
       "    </tr>\n",
       "    <tr>\n",
       "      <th>1</th>\n",
       "      <td>2</td>\n",
       "      <td>Orxan</td>\n",
       "      <td>Hasanov</td>\n",
       "      <td>1979-03-05</td>\n",
       "      <td>Male</td>\n",
       "      <td>orxan.hesenov@example.az</td>\n",
       "      <td>Gəncə</td>\n",
       "      <td>850.75</td>\n",
       "    </tr>\n",
       "    <tr>\n",
       "      <th>2</th>\n",
       "      <td>3</td>\n",
       "      <td>Yusif</td>\n",
       "      <td>Mammadov</td>\n",
       "      <td>1995-11-23</td>\n",
       "      <td>Male</td>\n",
       "      <td>yusif.memmedov@example.az</td>\n",
       "      <td>Sumqayıt</td>\n",
       "      <td>1325.20</td>\n",
       "    </tr>\n",
       "  </tbody>\n",
       "</table>\n",
       "</div>"
      ],
      "text/plain": [
       "   id firstname    lastname   birthdate gender                      email  \\\n",
       "0   1       Ali  Kalbaliyev  1990-02-01   Male  ali.kelbeliyev@example.az   \n",
       "1   2     Orxan     Hasanov  1979-03-05   Male   orxan.hesenov@example.az   \n",
       "2   3     Yusif    Mammadov  1995-11-23   Male  yusif.memmedov@example.az   \n",
       "\n",
       "       city  balance  \n",
       "0      Bakı  1200.50  \n",
       "1     Gəncə   850.75  \n",
       "2  Sumqayıt  1325.20  "
      ]
     },
     "execution_count": 8,
     "metadata": {},
     "output_type": "execute_result"
    }
   ],
   "source": [
    "conn = sqlite3.connect(\"data/customers.db\")\n",
    "df = pd.read_sql_query(\"SELECT * FROM customers\", conn)\n",
    "conn.close()\n",
    "df"
   ]
  },
  {
   "cell_type": "code",
   "execution_count": 10,
   "id": "ed130dee",
   "metadata": {},
   "outputs": [],
   "source": [
    "# Connect DB and fetch data"
   ]
  },
  {
   "cell_type": "code",
   "execution_count": 11,
   "id": "c0d1eba5",
   "metadata": {},
   "outputs": [],
   "source": [
    "import sqlite3\n",
    "conn = sqlite3.connect(\"data/customers.db\")\n",
    "cursor = conn.cursor()\n",
    "username='Ali'\n",
    "cursor.execute(\"\"\"SELECT id, firstname, lastname, email, city, birthdate, balance FROM customers WHERE firstname = ? \"\"\", (username,))\n",
    "row = cursor.fetchone()\n",
    "conn.close()"
   ]
  },
  {
   "cell_type": "code",
   "execution_count": 3,
   "id": "7b9eeb87",
   "metadata": {},
   "outputs": [],
   "source": [
    "import sqlite3\n",
    "conn = sqlite3.connect(\"data/customers.db\")\n",
    "cursor = conn.cursor()\n",
    "cursor.execute(\"\"\"SELECT * FROM customers \"\"\")\n",
    "row = cursor.fetchall()\n",
    "conn.close()"
   ]
  }
 ],
 "metadata": {
  "kernelspec": {
   "display_name": "base",
   "language": "python",
   "name": "python3"
  },
  "language_info": {
   "codemirror_mode": {
    "name": "ipython",
    "version": 3
   },
   "file_extension": ".py",
   "mimetype": "text/x-python",
   "name": "python",
   "nbconvert_exporter": "python",
   "pygments_lexer": "ipython3",
   "version": "3.12.4"
  }
 },
 "nbformat": 4,
 "nbformat_minor": 5
}
